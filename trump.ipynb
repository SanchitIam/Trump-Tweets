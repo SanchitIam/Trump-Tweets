{
 "cells": [
  {
   "cell_type": "code",
   "execution_count": 1,
   "metadata": {},
   "outputs": [],
   "source": [
    "import numpy as np\n",
    "import re\n",
    "from matplotlib import pyplot as plt\n",
    "%matplotlib inline\n",
    "import random\n",
    "import pandas as pd"
   ]
  },
  {
   "cell_type": "code",
   "execution_count": 2,
   "metadata": {},
   "outputs": [
    {
     "name": "stdout",
     "output_type": "stream",
     "text": [
      "<class 'pandas.core.frame.DataFrame'>\n",
      "RangeIndex: 29886 entries, 0 to 29885\n",
      "Data columns (total 5 columns):\n",
      "Text         29885 non-null object\n",
      "Date         29886 non-null object\n",
      "Favorites    29886 non-null int64\n",
      "Retweets     29886 non-null int64\n",
      "Tweet ID     29886 non-null int64\n",
      "dtypes: int64(3), object(2)\n",
      "memory usage: 1.1+ MB\n"
     ]
    }
   ],
   "source": [
    "ds = pd.read_csv('data.csv')\n",
    "ds.info()"
   ]
  },
  {
   "cell_type": "code",
   "execution_count": 3,
   "metadata": {},
   "outputs": [
    {
     "name": "stdout",
     "output_type": "stream",
     "text": [
      "<class 'pandas.core.frame.DataFrame'>\n",
      "RangeIndex: 29886 entries, 0 to 29885\n",
      "Data columns (total 5 columns):\n",
      "Text         29885 non-null object\n",
      "Date         29886 non-null object\n",
      "Favorites    29886 non-null int64\n",
      "Retweets     29886 non-null int64\n",
      "Tweet ID     29886 non-null int64\n",
      "dtypes: int64(3), object(2)\n",
      "memory usage: 1.1+ MB\n"
     ]
    }
   ],
   "source": [
    "ds.drop(['Date','Favorites','Retweets','Tweet ID'],axis=1)\n",
    "ds.info()"
   ]
  },
  {
   "cell_type": "code",
   "execution_count": 4,
   "metadata": {},
   "outputs": [
    {
     "data": {
      "text/html": [
       "<div>\n",
       "<style scoped>\n",
       "    .dataframe tbody tr th:only-of-type {\n",
       "        vertical-align: middle;\n",
       "    }\n",
       "\n",
       "    .dataframe tbody tr th {\n",
       "        vertical-align: top;\n",
       "    }\n",
       "\n",
       "    .dataframe thead th {\n",
       "        text-align: right;\n",
       "    }\n",
       "</style>\n",
       "<table border=\"1\" class=\"dataframe\">\n",
       "  <thead>\n",
       "    <tr style=\"text-align: right;\">\n",
       "      <th></th>\n",
       "      <th>Text</th>\n",
       "      <th>Date</th>\n",
       "      <th>Favorites</th>\n",
       "      <th>Retweets</th>\n",
       "      <th>Tweet ID</th>\n",
       "    </tr>\n",
       "  </thead>\n",
       "  <tbody>\n",
       "    <tr>\n",
       "      <th>0</th>\n",
       "      <td>Nielson Media Research final numbers on ACCEPT...</td>\n",
       "      <td>2016-07-30 23:32:40</td>\n",
       "      <td>13850</td>\n",
       "      <td>4130</td>\n",
       "      <td>759592590106849280</td>\n",
       "    </tr>\n",
       "    <tr>\n",
       "      <th>1</th>\n",
       "      <td>Thank you to all of the television viewers tha...</td>\n",
       "      <td>2016-07-30 19:00:07</td>\n",
       "      <td>27659</td>\n",
       "      <td>6842</td>\n",
       "      <td>759524001613918208</td>\n",
       "    </tr>\n",
       "    <tr>\n",
       "      <th>2</th>\n",
       "      <td>Can you imagine if I had the small crowds that...</td>\n",
       "      <td>2016-07-30 18:28:22</td>\n",
       "      <td>19968</td>\n",
       "      <td>6488</td>\n",
       "      <td>759516008272932864</td>\n",
       "    </tr>\n",
       "    <tr>\n",
       "      <th>3</th>\n",
       "      <td>NATO commander agrees members should pay up vi...</td>\n",
       "      <td>2016-07-30 18:24:40</td>\n",
       "      <td>11624</td>\n",
       "      <td>4668</td>\n",
       "      <td>759515080010719232</td>\n",
       "    </tr>\n",
       "    <tr>\n",
       "      <th>4</th>\n",
       "      <td>Wow, NATO's top commander just announced that ...</td>\n",
       "      <td>2016-07-30 18:18:58</td>\n",
       "      <td>23922</td>\n",
       "      <td>7819</td>\n",
       "      <td>759513644258525184</td>\n",
       "    </tr>\n",
       "  </tbody>\n",
       "</table>\n",
       "</div>"
      ],
      "text/plain": [
       "                                                Text                 Date  \\\n",
       "0  Nielson Media Research final numbers on ACCEPT...  2016-07-30 23:32:40   \n",
       "1  Thank you to all of the television viewers tha...  2016-07-30 19:00:07   \n",
       "2  Can you imagine if I had the small crowds that...  2016-07-30 18:28:22   \n",
       "3  NATO commander agrees members should pay up vi...  2016-07-30 18:24:40   \n",
       "4  Wow, NATO's top commander just announced that ...  2016-07-30 18:18:58   \n",
       "\n",
       "   Favorites  Retweets            Tweet ID  \n",
       "0      13850      4130  759592590106849280  \n",
       "1      27659      6842  759524001613918208  \n",
       "2      19968      6488  759516008272932864  \n",
       "3      11624      4668  759515080010719232  \n",
       "4      23922      7819  759513644258525184  "
      ]
     },
     "execution_count": 4,
     "metadata": {},
     "output_type": "execute_result"
    }
   ],
   "source": [
    "ds.head()"
   ]
  },
  {
   "cell_type": "code",
   "execution_count": 5,
   "metadata": {},
   "outputs": [
    {
     "data": {
      "text/plain": [
       "29886"
      ]
     },
     "execution_count": 5,
     "metadata": {},
     "output_type": "execute_result"
    }
   ],
   "source": [
    "ds.shape[0]"
   ]
  },
  {
   "cell_type": "code",
   "execution_count": 6,
   "metadata": {},
   "outputs": [],
   "source": [
    "f = open('trump_.txt','w')"
   ]
  },
  {
   "cell_type": "code",
   "execution_count": 11,
   "metadata": {},
   "outputs": [],
   "source": [
    "for ix in range(1024):\n",
    "    tx = ds.Text[ix]\n",
    "    f.write(tx)"
   ]
  },
  {
   "cell_type": "code",
   "execution_count": 12,
   "metadata": {},
   "outputs": [],
   "source": [
    "f.close()"
   ]
  },
  {
   "cell_type": "code",
   "execution_count": null,
   "metadata": {},
   "outputs": [],
   "source": []
  }
 ],
 "metadata": {
  "kernelspec": {
   "display_name": "Python 3",
   "language": "python",
   "name": "python3"
  },
  "language_info": {
   "codemirror_mode": {
    "name": "ipython",
    "version": 3
   },
   "file_extension": ".py",
   "mimetype": "text/x-python",
   "name": "python",
   "nbconvert_exporter": "python",
   "pygments_lexer": "ipython3",
   "version": "3.5.2"
  }
 },
 "nbformat": 4,
 "nbformat_minor": 2
}
