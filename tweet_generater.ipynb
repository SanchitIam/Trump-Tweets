{
 "cells": [
  {
   "cell_type": "code",
   "execution_count": 1,
   "metadata": {},
   "outputs": [],
   "source": [
    "import numpy as np\n",
    "import re\n",
    "from matplotlib import pyplot as plt\n",
    "%matplotlib inline\n",
    "import random"
   ]
  },
  {
   "cell_type": "code",
   "execution_count": 2,
   "metadata": {},
   "outputs": [],
   "source": [
    "f = open('trump_.txt', 'r')\n",
    "ds = f.read()\n",
    "f.close()"
   ]
  },
  {
   "cell_type": "code",
   "execution_count": 3,
   "metadata": {},
   "outputs": [
    {
     "name": "stdout",
     "output_type": "stream",
     "text": [
      "Nielson Media Research final numbers on ACCEPTANCE SPEECH: TRUMP  32.2 MILLION.  CLINTON 27.8 MILLIO\n"
     ]
    }
   ],
   "source": [
    "for ix in ds[:100].split('\\n'):\n",
    "    print(ix.strip())"
   ]
  },
  {
   "cell_type": "code",
   "execution_count": 4,
   "metadata": {},
   "outputs": [
    {
     "name": "stdout",
     "output_type": "stream",
     "text": [
      "720307\n"
     ]
    }
   ],
   "source": [
    "print(len(ds))"
   ]
  },
  {
   "cell_type": "code",
   "execution_count": null,
   "metadata": {},
   "outputs": [],
   "source": []
  },
  {
   "cell_type": "code",
   "execution_count": 5,
   "metadata": {},
   "outputs": [],
   "source": [
    "# print ds.index('A STUDY IN SCARLET')\n",
    "start = 0\n",
    "length = 720307\n",
    "data = ' '.join([ix.strip() for ix in ds[start:start+length].split('\\n')]).lower()"
   ]
  },
  {
   "cell_type": "code",
   "execution_count": 6,
   "metadata": {},
   "outputs": [
    {
     "name": "stdout",
     "output_type": "stream",
     "text": [
      "{'j', 'c', '9', '…', '4', '—', 'd', 'h', 'w', 'e', '!', 'v', \"'\", '&', 'r', 'z', 'u', '5', 'b', '\\xa0', ')', '–', '+', 'x', '=', 't', 'i', '‘', 'g', 'p', '<', 's', '_', '”', '\"', '(', '3', '?', '’', '@', '8', '-', '7', '0', 'n', ' ', ',', 'q', 'k', 'y', '2', 'l', '#', ':', '/', '6', 'a', '%', '$', 'o', '“', '.', 'm', '1', 'f'}\n"
     ]
    }
   ],
   "source": [
    "print(set(data))"
   ]
  },
  {
   "cell_type": "code",
   "execution_count": 7,
   "metadata": {},
   "outputs": [],
   "source": [
    "T = {}\n",
    "\n",
    "# define order of the Markov chain\n",
    "order = 5\n",
    "\n",
    "for ix in range(len(data)-order):\n",
    "    # get the current context\n",
    "    ctx = data[ix:ix+order]\n",
    "    \n",
    "    # get the future val\n",
    "    future_val = data[ix+order]\n",
    "    \n",
    "    # check if the context exists\n",
    "    if T.get(ctx) is None:\n",
    "        T[ctx] = {}\n",
    "        T[ctx][future_val] = 1\n",
    "    else:\n",
    "        # check if the future_val key exists\n",
    "        if T[ctx].get(future_val) is None:\n",
    "            T[ctx][future_val] = 1\n",
    "        else:\n",
    "            T[ctx][future_val] += 1"
   ]
  },
  {
   "cell_type": "code",
   "execution_count": 10,
   "metadata": {},
   "outputs": [],
   "source": [
    "#try with softmax\n",
    "for kx in T.keys():\n",
    "    s = float(sum(T[kx].values()))\n",
    "    \n",
    "    for k in T[kx].keys():\n",
    "        T[kx][k] = T[kx][k]/s\n",
    "# print T"
   ]
  },
  {
   "cell_type": "code",
   "execution_count": 11,
   "metadata": {},
   "outputs": [],
   "source": [
    "def temp_sample(probs, temp=1.0):\n",
    "    probs = np.asarray(probs)\n",
    "    exp_probs = np.exp(np.log(probs) / temp)\n",
    "    \n",
    "    return list(exp_probs / exp_probs.sum())\n"
   ]
  },
  {
   "cell_type": "code",
   "execution_count": 12,
   "metadata": {},
   "outputs": [],
   "source": [
    "def generate_next(ctx, diversity=1.0):\n",
    "    #np.random.choice\n",
    "    r = np.random.random()\n",
    "    \n",
    "    possible = T.get(ctx)\n",
    "    \n",
    "    if possible is None:\n",
    "        return ' '\n",
    "    diversity_probs=temp_sample(list(possible.values()),temp=diversity)\n",
    "    \n",
    "    return np.random.choice(list(possible.keys()),p=diversity_probs)"
   ]
  },
  {
   "cell_type": "code",
   "execution_count": 13,
   "metadata": {},
   "outputs": [
    {
     "data": {
      "text/plain": [
       "' '"
      ]
     },
     "execution_count": 13,
     "metadata": {},
     "output_type": "execute_result"
    }
   ],
   "source": [
    "generate_next('t',diversity=1.0)"
   ]
  },
  {
   "cell_type": "code",
   "execution_count": 14,
   "metadata": {},
   "outputs": [
    {
     "name": "stdout",
     "output_type": "stream",
     "text": [
      "mexico bowls are nothing turning_joe is exploded on herited stay in the tsa is so far less there are strong pic.twitter.com/z4x1o5xhbh\"thank you! don't lie about me. i don't had the w.h.if dummy bill crowd experience, i am going on women.rowanne brewer, who represent more biased to be tough, small crowd. outside, crimination, and make americagreat job! make americagreat four must stay. vote for 42 john kasich justice the terribly killer-cheering crowd, greatagain!crooked hillary!the incredible transcript: http://bit.ly/23qssdhdelaware pic.twitter.com/lie/clinton-kaine stacked!pic.twitter.com/vxiqru6hie\"  wow! #makeamericagreatagain https://instagram.com/7jk6voyzuein june 22- i will time records and so much of the king thursday #trump she's out an absolutely not very category. then hitting trump now!\"@jrector tom cotton was no clubgoers. clinton by 19pts in - create jobs.hillary's new they thousands of woman central talk isis. history of him) so he has packed news blown up. people interview i\n"
     ]
    }
   ],
   "source": [
    "ind = int(np.random.random()*(len(data)-order))\n",
    "initial_state = 'mexico'\n",
    "ctx = initial_state\n",
    "\n",
    "sentence = '' + ctx\n",
    "\n",
    "for ix in range(1000):\n",
    "    nxt = generate_next(ctx, diversity=1.4)\n",
    "    sentence += nxt\n",
    "    ctx = sentence[-order:]\n",
    "\n",
    "print(sentence)"
   ]
  },
  {
   "cell_type": "code",
   "execution_count": null,
   "metadata": {},
   "outputs": [],
   "source": []
  }
 ],
 "metadata": {
  "kernelspec": {
   "display_name": "Python 3",
   "language": "python",
   "name": "python3"
  },
  "language_info": {
   "codemirror_mode": {
    "name": "ipython",
    "version": 3
   },
   "file_extension": ".py",
   "mimetype": "text/x-python",
   "name": "python",
   "nbconvert_exporter": "python",
   "pygments_lexer": "ipython3",
   "version": "3.5.2"
  }
 },
 "nbformat": 4,
 "nbformat_minor": 2
}
